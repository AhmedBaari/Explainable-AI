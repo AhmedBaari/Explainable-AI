{
  "nbformat": 4,
  "nbformat_minor": 0,
  "metadata": {
    "colab": {
      "provenance": []
    },
    "kernelspec": {
      "name": "python3",
      "display_name": "Python 3"
    },
    "language_info": {
      "name": "python"
    }
  },
  "cells": [
    {
      "cell_type": "code",
      "source": [
        "!pip install numpy==1.26.4"
      ],
      "metadata": {
        "id": "meLWnzW4xSEv"
      },
      "execution_count": null,
      "outputs": []
    },
    {
      "cell_type": "code",
      "source": [
        "!pip install deepchecks"
      ],
      "metadata": {
        "id": "hWJT2TFzxvgD"
      },
      "execution_count": null,
      "outputs": []
    },
    {
      "cell_type": "code",
      "source": [
        "!pip install deepchecks --upgrade # This will ensure your package is up to date\n"
      ],
      "metadata": {
        "id": "0BgDpHsdx_MR"
      },
      "execution_count": null,
      "outputs": []
    },
    {
      "cell_type": "code",
      "source": [
        "import pandas as pd\n",
        "import numpy as np\n",
        "import matplotlib.pyplot as plt\n",
        "\n",
        "from sklearn.model_selection import train_test_split\n",
        "from sklearn.ensemble import RandomForestClassifier\n",
        "\n",
        "from deepchecks.tabular import Dataset\n",
        "from deepchecks.tabular.suites import data_integrity, train_test_validation, model_evaluation\n",
        "\n",
        "\n",
        "from IPython.display import display\n",
        "\n",
        "df=pd.read_csv(\"breast_cancer.csv\")\n",
        "df=df.drop(['Unnamed: 32'],axis=1)\n",
        "df['diagnosis']=df['diagnosis'].map({'M':1,'B':0})\n",
        "\n",
        "X=df.drop(['diagnosis'],axis=1)\n",
        "y=df['diagnosis']\n",
        "\n",
        "X_train, X_test, y_train, y_test = train_test_split(X, y, test_size=0.2, random_state=42)\n",
        "\n",
        "model=RandomForestClassifier()\n",
        "model.fit(X_train,y_train)\n",
        "\n",
        "print(\"Model Accuracy:\", model.score(X_test, y_test))\n",
        "\n",
        "# Deepchecks Data Integrity Check\n",
        "obj = data_integrity()\n",
        "train_df = Dataset(X_train, label=y_train, features=X_train.columns, cat_features=[])\n",
        "result = obj.run(train_dataset=train_df)\n",
        "print(\"Data is Integrited!\")\n",
        "\n",
        "#Deepchecks data consisitency check\n",
        "data_consistency_check= train_test_validation()\n",
        "data_consistency_check.run(model=model, train_dataset=train_df)\n",
        "print(\"Data is consistent!\")"
      ],
      "metadata": {
        "colab": {
          "base_uri": "https://localhost:8080/",
          "height": 68
        },
        "id": "cmrIL4uOtZmZ",
        "outputId": "d94fd4f0-0f59-4519-dd4b-368084e0161c"
      },
      "execution_count": 32,
      "outputs": [
        {
          "output_type": "stream",
          "name": "stdout",
          "text": [
            "Model Accuracy: 0.9649122807017544\n"
          ]
        },
        {
          "output_type": "display_data",
          "data": {
            "text/html": [
              "\n",
              "    <style>\n",
              "        progress {\n",
              "            -webkit-appearance: none;\n",
              "            border: none;\n",
              "            border-radius: 3px;\n",
              "            width: 300px;\n",
              "            height: 20px;\n",
              "            vertical-align: middle;\n",
              "            margin-right: 10px;\n",
              "            background-color: aliceblue;\n",
              "        }\n",
              "        progress::-webkit-progress-bar {\n",
              "            border-radius: 3px;\n",
              "            background-color: aliceblue;\n",
              "        }\n",
              "        progress::-webkit-progress-value {\n",
              "            background-color: #9d60fb;\n",
              "        }\n",
              "        progress::-moz-progress-bar {\n",
              "            background-color: #9d60fb;\n",
              "        }\n",
              "    </style>\n",
              "    "
            ]
          },
          "metadata": {}
        },
        {
          "output_type": "display_data",
          "data": {
            "text/html": []
          },
          "metadata": {}
        },
        {
          "output_type": "stream",
          "name": "stdout",
          "text": [
            "Data is Integrited!\n"
          ]
        },
        {
          "output_type": "display_data",
          "data": {
            "text/html": [
              "\n",
              "    <style>\n",
              "        progress {\n",
              "            -webkit-appearance: none;\n",
              "            border: none;\n",
              "            border-radius: 3px;\n",
              "            width: 300px;\n",
              "            height: 20px;\n",
              "            vertical-align: middle;\n",
              "            margin-right: 10px;\n",
              "            background-color: aliceblue;\n",
              "        }\n",
              "        progress::-webkit-progress-bar {\n",
              "            border-radius: 3px;\n",
              "            background-color: aliceblue;\n",
              "        }\n",
              "        progress::-webkit-progress-value {\n",
              "            background-color: #9d60fb;\n",
              "        }\n",
              "        progress::-moz-progress-bar {\n",
              "            background-color: #9d60fb;\n",
              "        }\n",
              "    </style>\n",
              "    "
            ]
          },
          "metadata": {}
        },
        {
          "output_type": "display_data",
          "data": {
            "text/html": []
          },
          "metadata": {}
        },
        {
          "output_type": "stream",
          "name": "stdout",
          "text": [
            "Data is consistent!\n"
          ]
        }
      ]
    },
    {
      "cell_type": "code",
      "source": [],
      "metadata": {
        "id": "S4yQrRm06HBA"
      },
      "execution_count": null,
      "outputs": []
    }
  ]
}