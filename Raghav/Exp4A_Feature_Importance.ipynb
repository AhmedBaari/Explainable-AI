{
 "cells": [
  {
   "cell_type": "code",
   "execution_count": 34,
   "id": "51ac92ea",
   "metadata": {},
   "outputs": [
    {
     "name": "stdout",
     "output_type": "stream",
     "text": [
      "               Feature Importance\n",
      "Pregnancies              0.085251\n",
      "Glucose                  0.263189\n",
      "BloodPressure            0.089361\n",
      "SkinThickness            0.068101\n",
      "Insulin                  0.070668\n"
     ]
    },
    {
     "data": {
      "image/png": "[encoded data removed]",
      "text/plain": [
       "<Figure size 432x288 with 1 Axes>"
      ]
     },
     "metadata": {
      "needs_background": "light"
     },
     "output_type": "display_data"
    }
   ],
   "source": [
    "#Feature Importance of Random Forest\n",
    "import pandas as pd\n",
    "import numpy as np\n",
    "import matplotlib.pyplot as plt \n",
    "import seaborn as sns\n",
    "from sklearn.preprocessing import MinMaxScaler\n",
    "from sklearn.ensemble import RandomForestClassifier as RFC\n",
    "\n",
    "#Load the dataset\n",
    "data=pd.read_csv('diabetes.csv')\n",
    "\n",
    "#Preprocessing\n",
    "val=df.values\n",
    "scaler=MinMaxScaler()\n",
    "normalised_values=scaler.fit_transform(val)\n",
    "data=pd.DataFrame(normalised_values,columns=df.columns)\n",
    "\n",
    "#Splitting the dataset\n",
    "X=data.drop([\"Outcome\"],axis=1)\n",
    "y=data['Outcome']\n",
    "\n",
    "#Applying a RFC model onto a diabetes dataframe and bringing the impotant features\n",
    "def apply_RFC(X,y,columns):\n",
    "    model = RFC(n_estimators=500,random_state=5)\n",
    "    imp_features = model.fit(X,y).feature_importances_ \n",
    "    imp_features = pd.DataFrame(imp_features,columns=['Feature Importance'],index=columns)\n",
    "    print(imp_features.head())\n",
    "    return imp_features\n",
    "\n",
    "important_features = apply_RFC(X,y, data.columns.drop('Outcome'))\n",
    "sns.barplot(important_features['Feature Importance'], important_features.index)\n",
    "plt.title(\"Important Features\")\n",
    "plt.show()"
   ]
  },
  {
   "cell_type": "code",
   "execution_count": 23,
   "id": "6dd9d158",
   "metadata": {},
   "outputs": [
    {
     "name": "stdout",
     "output_type": "stream",
     "text": [
      "For feature 0 the importance is 0.06744791666666665\n",
      "For feature 1 the importance is 0.1013020833333333\n",
      "For feature 2 the importance is 0.031770833333333304\n",
      "For feature 3 the importance is 0.04843749999999995\n",
      "For feature 4 the importance is 0.02239583333333328\n",
      "For feature 5 the importance is 0.02630208333333328\n",
      "For feature 6 the importance is 0.04401041666666665\n",
      "For feature 7 the importance is 0.07369791666666665\n"
     ]
    },
    {
     "data": {
      "image/png": "[encoded data removed]",
      "text/plain": [
       "<Figure size 432x288 with 1 Axes>"
      ]
     },
     "metadata": {
      "needs_background": "light"
     },
     "output_type": "display_data"
    }
   ],
   "source": [
    "#Permutation feature importance using knn\n",
    "\n",
    "from sklearn.neighbors import KNeighborsClassifier\n",
    "from sklearn.inspection import permutation_importance\n",
    "\n",
    "X=data.drop(['Outcome'],axis=1)\n",
    "y=data['Outcome']\n",
    "\n",
    "model=KNeighborsClassifier(n_neighbors=2)\n",
    "model.fit(X,y)\n",
    "\n",
    "results = permutation_importance(model, X, y, scoring='accuracy')\n",
    "importance = results.importances_mean\n",
    "\n",
    "for i, v in enumerate(importance):\n",
    "    print(f\"For feature {i} the importance is {v}\")\n",
    "    \n",
    "plt.bar([x for x in range(len(importance))],importance)\n",
    "plt.show()"
   ]
  },
  {
   "cell_type": "code",
   "execution_count": 67,
   "id": "8cf10f1b",
   "metadata": {},
   "outputs": [
    {
     "name": "stdout",
     "output_type": "stream",
     "text": [
      "1/1 [==============================] - 0s 33ms/step\n",
      "1/1 [==============================] - 0s 13ms/step\n",
      "1/1 [==============================] - 0s 14ms/step\n",
      "1/1 [==============================] - 0s 15ms/step\n",
      "1/1 [==============================] - 0s 14ms/step\n",
      "1/1 [==============================] - 0s 14ms/step\n",
      "1/1 [==============================] - 0s 14ms/step\n",
      "1/1 [==============================] - 0s 14ms/step\n",
      "1/1 [==============================] - 0s 13ms/step\n",
      "1/1 [==============================] - 0s 14ms/step\n",
      "1/1 [==============================] - 0s 14ms/step\n",
      "1 change makes 0.508441686630249 prediction.\n",
      "2 change makes 0.49789154529571533 prediction.\n",
      "3 change makes 0.4859054386615753 prediction.\n",
      "4 change makes 0.478007435798645 prediction.\n",
      "5 change makes 0.4737704396247864 prediction.\n",
      "6 change makes 0.4695371687412262 prediction.\n",
      "7 change makes 0.4653083384037018 prediction.\n",
      "8 change makes 0.4610844552516937 prediction.\n",
      "9 change makes 0.45686614513397217 prediction.\n",
      "10 change makes 0.45265403389930725 prediction.\n",
      "11 change makes 0.4481624960899353 prediction.\n"
     ]
    },
    {
     "data": {
      "image/png": "[encoded data removed]",
      "text/plain": [
       "<Figure size 432x288 with 1 Axes>"
      ]
     },
     "metadata": {
      "needs_background": "light"
     },
     "output_type": "display_data"
    }
   ],
   "source": [
    "#Sensitivity analysis for own dataset\n",
    "import numpy as np\n",
    "from tensorflow.keras.models import Sequential\n",
    "from tensorflow.keras.layers import Dense\n",
    "\n",
    "# Define a simple neural network model\n",
    "model = Sequential()\n",
    "model.add(Dense(10, activation='relu', input_shape=(2,)))  # Input layer with 2 features\n",
    "model.add(Dense(1, activation='sigmoid'))  # Output layer for binary classification\n",
    "model.compile(loss='binary_crossentropy', optimizer='adam', metrics=['accuracy'])\n",
    "\n",
    "#Keep it like this itself\n",
    "X = np.random.rand(100, 2)  # 100 samples with 2 features\n",
    "y = np.random.randint(0, 2, 100)  # 100 random binary labels\n",
    "\n",
    "# Train the model\n",
    "model.fit(X, y, epochs=10, verbose=0)\n",
    "\n",
    "# Perform sensitivity analysis for the first feature\n",
    "def sensitivity_analysis(feature_index):\n",
    "    original_value = X[0, feature_index]  # Store the original value\n",
    "    predictions = []\n",
    "    \n",
    "    for change in np.linspace(-0.5, 0.5, 11):  # Vary the feature by -0.5 to 0.5 11 times\n",
    "        X[0,feature_index] = original_value + change  # Apply the change\n",
    "        prediction = model.predict(X[[0]])[0,0]  # Get the prediction\n",
    "        predictions.append(prediction)\n",
    "    return predictions\n",
    "\n",
    "# Analyze sensitivity for the first feature\n",
    "predictions = sensitivity_analysis(0)\n",
    "\n",
    "for i, predic in enumerate(predictions):\n",
    "    print(f\"{i+1} change makes {predic} prediction.\")\n",
    "    \n",
    "plt.scatter([1,2,3,4,5,6,7,8,9,10,11],sorted(predictions),c='blue')\n",
    "plt.title(\"Trend Line for increase in predictions\")\n",
    "plt.show()"
   ]
  }
 ],
 "metadata": {
  "kernelspec": {
   "display_name": "Python 3 (ipykernel)",
   "language": "python",
   "name": "python3"
  },
  "language_info": {
   "codemirror_mode": {
    "name": "ipython",
    "version": 3
   },
   "file_extension": ".py",
   "mimetype": "text/x-python",
   "name": "python",
   "nbconvert_exporter": "python",
   "pygments_lexer": "ipython3",
   "version": "3.12.2"
  }
 },
 "nbformat": 4,
 "nbformat_minor": 5
}
