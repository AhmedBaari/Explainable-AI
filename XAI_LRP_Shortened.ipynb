{
  "cells": [
    {
      "cell_type": "code",
      "source": [
        "import torchvision\n",
        "import torchvision.transforms as transforms\n",
        "from torchvision.datasets import CIFAR10\n",
        "import os\n",
        "import shutil\n",
        "\n",
        "# Define the transform to apply to the images\n",
        "transform = transforms.Compose([\n",
        "    transforms.ToTensor(),\n",
        "    transforms.Normalize((0.5, 0.5, 0.5), (0.5, 0.5, 0.5))\n",
        "])\n",
        "\n",
        "# Create the directory structure if it doesn't exist\n",
        "os.makedirs('./data/cifar10/train', exist_ok=True)\n",
        "os.makedirs('./data/cifar10/test', exist_ok=True)\n",
        "\n",
        "# Download the training dataset\n",
        "trainset = CIFAR10(root='./data', train=True, download=True, transform=transform)\n",
        "# Download the testing dataset\n",
        "testset = CIFAR10(root='./data', train=False, download=True, transform=transform)\n",
        "\n",
        "\n",
        "# Function to save images to folders\n",
        "def save_images_to_folder(dataset, folder_path):\n",
        "    for i, (image, label) in enumerate(dataset):\n",
        "        class_folder = os.path.join(folder_path, str(label))\n",
        "        os.makedirs(class_folder, exist_ok=True)\n",
        "        image_path = os.path.join(class_folder, f\"{i}.png\")\n",
        "        torchvision.utils.save_image(image, image_path)\n",
        "\n",
        "# Save training images\n",
        "save_images_to_folder(trainset, './data/cifar10/train')\n",
        "# Save testing images\n",
        "save_images_to_folder(testset, './data/cifar10/test')\n",
        "\n",
        "print(\"CIFAR-10 images saved to train and test folders.\")"
      ],
      "metadata": {
        "colab": {
          "base_uri": "https://localhost:8080/"
        },
        "id": "53ua2fXgJxi0",
        "outputId": "2abd177d-1177-4844-8297-b371d4f3bb39"
      },
      "execution_count": null,
      "outputs": [
        {
          "output_type": "stream",
          "name": "stdout",
          "text": [
            "CIFAR-10 images saved to train and test folders.\n"
          ]
        }
      ]
    },
    {
      "cell_type": "markdown",
      "source": [
        "👆 Above code is to download the dataset. Ignore."
      ],
      "metadata": {
        "id": "9IaJ-EeFNkUf"
      }
    },
    {
      "cell_type": "code",
      "source": [
        "import torch\n",
        "import torchvision\n",
        "from torchvision.datasets import ImageFolder\n",
        "from captum.attr import LRP, visualization as viz\n",
        "import torch.nn as nn"
      ],
      "metadata": {
        "id": "PT3ghdOKNpvc"
      },
      "execution_count": null,
      "outputs": []
    },
    {
      "cell_type": "code",
      "source": [
        "# 1. Define transforms\n",
        "transform = torchvision.transforms.Compose([\n",
        "    torchvision.transforms.ToTensor(),\n",
        "    torchvision.transforms.Normalize((0.5, 0.5, 0.5), (0.5, 0.5, 0.5))\n",
        "])\n"
      ],
      "metadata": {
        "id": "PLc7Ll3xNqt4"
      },
      "execution_count": null,
      "outputs": []
    },
    {
      "cell_type": "code",
      "source": [
        "# 2. Load dataset using ImageFolder\n",
        "# CIFAR-10 images are in ./data/cifar10/train and ./data/cifar10/test\n",
        "dataset = ImageFolder('./data/cifar10/train', transform=transform)"
      ],
      "metadata": {
        "id": "5Ee-bbF2NrqE"
      },
      "execution_count": null,
      "outputs": []
    },
    {
      "cell_type": "code",
      "source": [
        "# 3. Load a pretrained model\n",
        "model = torchvision.models.resnet18(pretrained=True)\n",
        "\n",
        "# Modify the output layer\n",
        "num_ftrs = model.fc.in_features\n",
        "model.fc = nn.Linear(num_ftrs, 10)  # 10 classes for CIFAR-10\n",
        "\n",
        "model.eval()\n",
        "print(\"modified\")"
      ],
      "metadata": {
        "colab": {
          "base_uri": "https://localhost:8080/"
        },
        "id": "ir4OXg0sNvbD",
        "outputId": "7d177053-c44d-44ca-d29a-e158a28ce666"
      },
      "execution_count": null,
      "outputs": [
        {
          "output_type": "stream",
          "name": "stdout",
          "text": [
            "modified\n"
          ]
        }
      ]
    },
    {
      "cell_type": "code",
      "source": [
        "# 4. Get a single image and its label\n",
        "img, label = dataset[0]\n",
        "img = img.unsqueeze(0)\n",
        "img.requires_grad = True\n",
        "label"
      ],
      "metadata": {
        "id": "b4uhh_YoNyLH",
        "colab": {
          "base_uri": "https://localhost:8080/"
        },
        "outputId": "a6492527-1dda-4431-e678-6b6aeb6df4f8"
      },
      "execution_count": null,
      "outputs": [
        {
          "output_type": "execute_result",
          "data": {
            "text/plain": [
              "0"
            ]
          },
          "metadata": {},
          "execution_count": 45
        }
      ]
    },
    {
      "cell_type": "code",
      "source": [
        "# Define class names\n",
        "class_names = ['airplane', 'automobile', 'bird', 'cat', 'deer', 'dog', 'frog', 'horse', 'ship', 'truck']\n",
        "\n",
        "# 5. Make prediction\n",
        "pred = model(img).argmax().item()\n",
        "print(pred, label)\n",
        "print(f\"Predicted: {class_names[pred]}, True: {class_names[label]}\")"
      ],
      "metadata": {
        "colab": {
          "base_uri": "https://localhost:8080/"
        },
        "id": "I-kxPEDZN0OI",
        "outputId": "f8ecec01-eee0-4182-a5f0-276fcd7c8521"
      },
      "execution_count": null,
      "outputs": [
        {
          "output_type": "stream",
          "name": "stdout",
          "text": [
            "9 0\n",
            "Predicted: truck, True: airplane\n"
          ]
        }
      ]
    },
    {
      "cell_type": "code",
      "source": [
        "# 6. Generate LRP explanation\n",
        "lrp = LRP(model)\n",
        "# Ensure input shape is (1, 3, 32, 32)\n",
        "img = img.reshape(1, 3, 32, 32)\n",
        "attr = lrp.attribute(img, target=pred)"
      ],
      "metadata": {
        "id": "HMVpaEMhN4Kj"
      },
      "execution_count": null,
      "outputs": []
    },
    {
      "cell_type": "code",
      "source": [
        "\n",
        "# 7. Visualize\n",
        "img_np = img.squeeze(0).permute(1, 2, 0).detach().numpy() * 0.5 + 0.5\n",
        "attr_np = attr.squeeze(0).permute(1, 2, 0).detach().numpy()\n",
        "\n",
        "# Check shape of attr_np\n",
        "print(attr_np.shape)  # dimensions"
      ],
      "metadata": {
        "id": "7uv6k_PRN5ZM",
        "colab": {
          "base_uri": "https://localhost:8080/"
        },
        "outputId": "e3df6acc-c45e-44d7-dda7-0fffc297934b"
      },
      "execution_count": null,
      "outputs": [
        {
          "output_type": "stream",
          "name": "stdout",
          "text": [
            "(32, 32, 3)\n"
          ]
        }
      ]
    },
    {
      "cell_type": "code",
      "execution_count": null,
      "metadata": {
        "colab": {
          "base_uri": "https://localhost:8080/",
          "height": 580
        },
        "id": "d_Wk5wiUGv0z",
        "outputId": "aa0fe497-8488-4ab2-bce5-9c71b44fb927"
      },
      "outputs": [
        {
          "output_type": "display_data",
          "data": {
            "text/plain": [
              "<Figure size 600x600 with 2 Axes>"
            ],
            "image/png": "[encoded data removed]"
          },
          "metadata": {}
        },
        {
          "output_type": "execute_result",
          "data": {
            "text/plain": [
              "(<Figure size 600x600 with 2 Axes>,\n",
              " <Axes: title={'center': 'LRP Attribution'}>)"
            ]
          },
          "metadata": {},
          "execution_count": 49
        }
      ],
      "source": [
        "viz.visualize_image_attr(\n",
        "    attr_np,  # Use attr_np directly without summation\n",
        "    img_np,\n",
        "    method=\"heat_map\",\n",
        "    sign=\"absolute_value\",\n",
        "    show_colorbar=True,\n",
        "    title=\"LRP Attribution\"\n",
        ")"
      ]
    },
    {
      "cell_type": "code",
      "source": [
        "import matplotlib.pyplot as plt\n",
        "\n",
        "viz.visualize_image_attr(\n",
        "    img_np,\n",
        "    method=\"heat_map\",\n",
        "    sign=\"absolute_value\",\n",
        "    show_colorbar=True,\n",
        "    title=\"LRP Attribution\"\n",
        ")\n",
        "plt.show()\n",
        "# Actual image"
      ],
      "metadata": {
        "colab": {
          "base_uri": "https://localhost:8080/",
          "height": 545
        },
        "id": "GE0X-DAZMrTE",
        "outputId": "6e07b3d1-b115-423a-865d-b90f83c9b3fd"
      },
      "execution_count": null,
      "outputs": [
        {
          "output_type": "display_data",
          "data": {
            "text/plain": [
              "<Figure size 600x600 with 2 Axes>"
            ],
            "image/png": "[encoded data removed]"
          },
          "metadata": {}
        }
      ]
    }
  ],
  "metadata": {
    "accelerator": "GPU",
    "colab": {
      "gpuType": "T4",
      "provenance": []
    },
    "kernelspec": {
      "display_name": "Python 3",
      "name": "python3"
    },
    "language_info": {
      "name": "python"
    }
  },
  "nbformat": 4,
  "nbformat_minor": 0
}